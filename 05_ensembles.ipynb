{
 "cells": [
  {
   "cell_type": "code",
   "execution_count": null,
   "metadata": {},
   "outputs": [],
   "source": [
    "from sklearn.datasets import fetch_olivetti_faces\n",
    "X, y = fetch_olivetti_faces(return_X_y=True)\n",
    "X.shape, y.shape"
   ]
  },
  {
   "cell_type": "code",
   "execution_count": null,
   "metadata": {},
   "outputs": [],
   "source": [
    "from sklearn.model_selection import train_test_split\n",
    "X_tr, X_te, y_tr, y_te = train_test_split(X, y, random_state=42)\n",
    "X_tr.shape, X_te.shape, y_tr.shape, y_te.shape"
   ]
  },
  {
   "cell_type": "code",
   "execution_count": null,
   "metadata": {},
   "outputs": [],
   "source": [
    "from sklearn.neighbors import KNeighborsClassifier\n",
    "modelo = KNeighborsClassifier()\n",
    "modelo.fit(X_tr, y_tr)\n",
    "knn_pr = modelo.predict(X_te)\n",
    "knnhits = knn_pr == y_te\n",
    "knnhits, sum(knnhits)/len(knnhits)"
   ]
  },
  {
   "cell_type": "code",
   "execution_count": null,
   "metadata": {},
   "outputs": [],
   "source": [
    "from sklearn.naive_bayes import GaussianNB\n",
    "modelo = GaussianNB()\n",
    "modelo.fit(X_tr, y_tr)\n",
    "gnb_pr = modelo.predict(X_te)\n",
    "gnbhits = gnb_pr == y_te\n",
    "gnbhits, sum(gnbhits)/len(gnbhits)"
   ]
  },
  {
   "cell_type": "code",
   "execution_count": null,
   "metadata": {},
   "outputs": [],
   "source": [
    "from sklearn.linear_model import Perceptron\n",
    "modelo = Perceptron()\n",
    "modelo.fit(X_tr, y_tr)\n",
    "per_pr = modelo.predict(X_te)\n",
    "perhits = per_pr == y_te\n",
    "perhits, sum(perhits)/len(perhits)"
   ]
  },
  {
   "cell_type": "code",
   "execution_count": null,
   "metadata": {},
   "outputs": [],
   "source": [
    "import numpy as np\n",
    "hits = np.stack((knnhits, gnbhits, perhits))\n",
    "hits.T"
   ]
  },
  {
   "cell_type": "code",
   "execution_count": null,
   "metadata": {},
   "outputs": [],
   "source": [
    "y_pr = np.stack((knn_pr, gnb_pr, per_pr))\n",
    "y_pr.T"
   ]
  },
  {
   "cell_type": "code",
   "execution_count": null,
   "metadata": {},
   "outputs": [],
   "source": [
    "from scipy import stats\n",
    "y_pr = stats.mode(y_pr)[0][0]\n",
    "vohits = y_pr == y_te\n",
    "vohits, sum(vohits)/len(vohits)"
   ]
  },
  {
   "cell_type": "markdown",
   "metadata": {},
   "source": [
    "## Combinação de Classificadores"
   ]
  },
  {
   "cell_type": "code",
   "execution_count": null,
   "metadata": {},
   "outputs": [],
   "source": [
    "from sklearn.ensemble import VotingClassifier\n",
    "\n",
    "modelo = VotingClassifier([\n",
    "    ('knn', KNeighborsClassifier()),\n",
    "    ('naivebayes', GaussianNB()),\n",
    "    ('perceptron', Perceptron())\n",
    "])\n",
    "\n",
    "modelo.fit(X_tr, y_tr)\n",
    "voh_pr = modelo.predict(X_te)\n",
    "vohhits = voh_pr == y_te\n",
    "vohhits, sum(vohhits)/len(vohhits)"
   ]
  },
  {
   "cell_type": "code",
   "execution_count": null,
   "metadata": {},
   "outputs": [],
   "source": [
    "from sklearn.ensemble import VotingClassifier\n",
    "\n",
    "modelo = VotingClassifier([\n",
    "    ('knn', KNeighborsClassifier(1)),\n",
    "    ('knn2', KNeighborsClassifier(5)),\n",
    "    ('knn3', KNeighborsClassifier(9))\n",
    "])\n",
    "\n",
    "modelo.fit(X_tr, y_tr)\n",
    "voh_pr = modelo.predict(X_te)\n",
    "vohhits = voh_pr == y_te\n",
    "vohhits, sum(vohhits)/len(vohhits)"
   ]
  },
  {
   "cell_type": "code",
   "execution_count": null,
   "metadata": {},
   "outputs": [],
   "source": [
    "from sklearn.tree import DecisionTreeClassifier\n",
    "from sklearn.ensemble import VotingClassifier\n",
    "\n",
    "modelo = VotingClassifier([\n",
    "    ('knn', KNeighborsClassifier()),\n",
    "    ('naivebayes', GaussianNB()),\n",
    "    ('arvore', DecisionTreeClassifier())\n",
    "])\n",
    "\n",
    "modelo.fit(X_tr, y_tr)\n",
    "voh_pr = modelo.predict(X_te)\n",
    "vohhits = voh_pr == y_te\n",
    "vohhits, sum(vohhits)/len(vohhits)"
   ]
  },
  {
   "cell_type": "code",
   "execution_count": null,
   "metadata": {},
   "outputs": [],
   "source": [
    "modelo = DecisionTreeClassifier(random_state=42)\n",
    "modelo.fit(X_tr, y_tr)\n",
    "dt_pr = modelo.predict(X_te)\n",
    "dthits = dt_pr == y_te\n",
    "dthits, sum(dthits)/len(dthits)"
   ]
  },
  {
   "cell_type": "markdown",
   "metadata": {},
   "source": [
    "## Diversificação poer Reamostragem"
   ]
  },
  {
   "cell_type": "code",
   "execution_count": null,
   "metadata": {},
   "outputs": [],
   "source": [
    "from sklearn.ensemble import BaggingClassifier\n",
    "\n",
    "modelo = BaggingClassifier(random_state=42)\n",
    "modelo.fit(X_tr, y_tr)\n",
    "bag_pr = modelo.predict(X_te)\n",
    "baghits = bag_pr == y_te\n",
    "baghits, sum(baghits)/len(baghits)"
   ]
  },
  {
   "cell_type": "code",
   "execution_count": null,
   "metadata": {},
   "outputs": [],
   "source": [
    "modelo = BaggingClassifier(DecisionTreeClassifier(), random_state=42)\n",
    "modelo.fit(X_tr, y_tr)\n",
    "bag_pr = modelo.predict(X_te)\n",
    "baghits = bag_pr == y_te\n",
    "baghits, sum(baghits)/len(baghits)"
   ]
  },
  {
   "cell_type": "markdown",
   "metadata": {},
   "source": [
    "## Aumentando a Aleatoriedade para Aumentar a Diversidade"
   ]
  },
  {
   "cell_type": "code",
   "execution_count": null,
   "metadata": {},
   "outputs": [],
   "source": [
    "modelo = BaggingClassifier(DecisionTreeClassifier(splitter='random'), random_state=42)\n",
    "modelo.fit(X_tr, y_tr)\n",
    "bag_pr = modelo.predict(X_te)\n",
    "baghits = bag_pr == y_te\n",
    "baghits, sum(baghits)/len(baghits)"
   ]
  },
  {
   "cell_type": "code",
   "execution_count": null,
   "metadata": {},
   "outputs": [],
   "source": [
    "modelo = BaggingClassifier(DecisionTreeClassifier(splitter='random'), random_state=42, n_estimators=100)\n",
    "modelo.fit(X_tr, y_tr)\n",
    "bag_pr = modelo.predict(X_te)\n",
    "baghits = bag_pr == y_te\n",
    "baghits, sum(baghits)/len(baghits)"
   ]
  },
  {
   "cell_type": "markdown",
   "metadata": {},
   "source": [
    "## Random Forest é um Bagging de Árvores de Decisão"
   ]
  },
  {
   "cell_type": "code",
   "execution_count": null,
   "metadata": {},
   "outputs": [],
   "source": [
    "from sklearn.ensemble import RandomForestClassifier\n",
    "modelo = RandomForestClassifier(random_state=42)\n",
    "modelo.fit(X_tr, y_tr)\n",
    "rf_pr = modelo.predict(X_te)\n",
    "rfhits = rf_pr == y_te\n",
    "rfhits, sum(rfhits)/len(rfhits)"
   ]
  },
  {
   "cell_type": "markdown",
   "metadata": {},
   "source": [
    "## Regularização do Bagging"
   ]
  },
  {
   "cell_type": "code",
   "execution_count": null,
   "metadata": {},
   "outputs": [],
   "source": [
    "modelo = BaggingClassifier(DecisionTreeClassifier(splitter='random'), random_state=42, n_estimators=100, max_features=0.15)\n",
    "modelo.fit(X_tr, y_tr)\n",
    "bag_pr = modelo.predict(X_te)\n",
    "baghits = bag_pr == y_te\n",
    "baghits, sum(baghits)/len(baghits)"
   ]
  },
  {
   "cell_type": "markdown",
   "metadata": {},
   "source": [
    "## Florestas Extremamente Aleatórias"
   ]
  },
  {
   "cell_type": "code",
   "execution_count": null,
   "metadata": {},
   "outputs": [],
   "source": [
    "from sklearn.ensemble import ExtraTreesClassifier\n",
    "modelo = ExtraTreesClassifier(random_state=42)\n",
    "modelo.fit(X_tr, y_tr)\n",
    "et_pr = modelo.predict(X_te)\n",
    "ethits = et_pr == y_te\n",
    "ethits, sum(ethits)/len(ethits)"
   ]
  },
  {
   "cell_type": "markdown",
   "metadata": {},
   "source": [
    "## Boosting"
   ]
  },
  {
   "cell_type": "code",
   "execution_count": null,
   "metadata": {},
   "outputs": [],
   "source": [
    "from sklearn.ensemble import AdaBoostClassifier\n",
    "modelo = AdaBoostClassifier(random_state=42)\n",
    "modelo.fit(X_tr, y_tr)\n",
    "ab_pr = modelo.predict(X_te)\n",
    "abhits = ab_pr == y_te\n",
    "abhits, sum(abhits)/len(abhits)"
   ]
  },
  {
   "cell_type": "code",
   "execution_count": null,
   "metadata": {},
   "outputs": [],
   "source": [
    "from sklearn.ensemble import AdaBoostClassifier\n",
    "modelo = AdaBoostClassifier(DecisionTreeClassifier(max_depth=25, splitter='random'), learning_rate=0.15, random_state=42)\n",
    "modelo.fit(X_tr, y_tr)\n",
    "ab_pr = modelo.predict(X_te)\n",
    "abhits = ab_pr == y_te\n",
    "abhits, sum(abhits)/len(abhits)"
   ]
  },
  {
   "cell_type": "code",
   "execution_count": null,
   "metadata": {},
   "outputs": [],
   "source": [
    "# Precisa de uma GPU\n",
    "\n",
    "# from xgboost import XGBClassifier\n",
    "# modelo = XGBClassifier(use_label_encoder=False, random_state=42)\n",
    "# modelo.fit(X_tr, y_tr)\n",
    "# xgb_pr = modelo.predict(X_te)\n",
    "# xgbhits = xgb_pr == y_te\n",
    "# xgbhits, sum(xgbhits)/len(xgbhits)"
   ]
  },
  {
   "cell_type": "code",
   "execution_count": null,
   "metadata": {},
   "outputs": [],
   "source": [
    "# from xgboost import XGBClassifier\n",
    "# modelo = XGBClassifier(colsample_bynode=0.01, learning_rate=0.15, random_state=42)\n",
    "# modelo.fit(X_tr, y_tr)\n",
    "# xgb_pr = modelo.predict(X_te)\n",
    "# xgbhits = xgb_pr == y_te\n",
    "# xgbhits, sum(xgbhits)/len(xgbhits)"
   ]
  },
  {
   "cell_type": "code",
   "execution_count": null,
   "metadata": {},
   "outputs": [],
   "source": [
    "import warnings\n",
    "warnings.filterwarnings('ignore')"
   ]
  },
  {
   "cell_type": "code",
   "execution_count": null,
   "metadata": {},
   "outputs": [],
   "source": [
    "from sklearn.ensemble import StackingClassifier\n",
    "\n",
    "voting = VotingClassifier([\n",
    "    ('knn', KNeighborsClassifier()),\n",
    "    ('naivebayes', GaussianNB()),\n",
    "    ('perceptron', Perceptron())\n",
    "])\n",
    "\n",
    "modelo = StackingClassifier([\n",
    "    ('voting', voting),\n",
    "    ('extratrees', ExtraTreesClassifier(random_state=42)),\n",
    "    ('randonforest', RandomForestClassifier(random_state=42))\n",
    "], cv=3, passthrough=True)\n",
    "\n",
    "modelo.fit(X_tr, y_tr)\n",
    "sc_pr = modelo.predict(X_te)\n",
    "schits = sc_pr == y_te\n",
    "schits, sum(schits)/len(schits)\n"
   ]
  },
  {
   "cell_type": "code",
   "execution_count": null,
   "metadata": {},
   "outputs": [],
   "source": [
    "modelo = StackingClassifier([\n",
    "    ('randonforest42', RandomForestClassifier(random_state=42)),\n",
    "    ('randonforest43', RandomForestClassifier(random_state=43)),\n",
    "    ('randonforest44', RandomForestClassifier(random_state=44))\n",
    "], cv=3, passthrough=True)\n",
    "\n",
    "modelo.fit(X_tr, y_tr)\n",
    "sc_pr = modelo.predict(X_te)\n",
    "schits = sc_pr == y_te\n",
    "schits, sum(schits)/len(schits)"
   ]
  }
 ],
 "metadata": {
  "kernelspec": {
   "display_name": ".venv",
   "language": "python",
   "name": "python3"
  },
  "language_info": {
   "codemirror_mode": {
    "name": "ipython",
    "version": 3
   },
   "file_extension": ".py",
   "mimetype": "text/x-python",
   "name": "python",
   "nbconvert_exporter": "python",
   "pygments_lexer": "ipython3",
   "version": "3.11.9"
  }
 },
 "nbformat": 4,
 "nbformat_minor": 2
}
