{
 "cells": [
  {
   "cell_type": "code",
   "execution_count": null,
   "metadata": {},
   "outputs": [],
   "source": [
    "import numpy as np\n",
    "import matplotlib.pyplot as plt\n",
    "from sklearn.datasets import make_blobs\n",
    "from sklearn.preprocessing import label_binarize\n",
    "\n",
    "def geradataset(tamanho=20, centro=2):\n",
    "    X, y = make_blobs(n_samples=tamanho, centers=centro, center_box=(0,1.0), cluster_std=0.05)\n",
    "    return X, y\n",
    "\n",
    "def plotadataset(X, y):\n",
    "    plt.xlabel(\"X1\")\n",
    "    plt.ylabel(\"X2\")\n",
    "    for k in set(y):\n",
    "        plt.plot(X[:,0][y==k],X[:,1][y==k],\"o\", alpha=0.3)\n",
    "\n",
    "\n",
    "def plotahiperplano(vetor, bias=0, xmin=0, xmax=1):\n",
    "    xs = np.linspace(xmin, xmax, num=2)\n",
    "    ys = (-vetor[0] / vetor[1]) * xs - bias / vetor[1]\n",
    "    plt.plot(xs, ys)\n",
    "    \n",
    "\n",
    "X, y = geradataset(100, 4)\n",
    "plotadataset(X, y)\n",
    "plt.show()\n",
    "ybin = label_binarize(y, classes=list(set(y)))*2 - 1\n",
    "# ybin"
   ]
  },
  {
   "cell_type": "markdown",
   "metadata": {},
   "source": [
    "## Função de Custo"
   ]
  },
  {
   "cell_type": "code",
   "execution_count": null,
   "metadata": {},
   "outputs": [],
   "source": [
    "class CustoPerceptron():\n",
    "    @staticmethod\n",
    "    def erro(y, ypred):\n",
    "        return y - ypred\n",
    "    @staticmethod\n",
    "    def custo(y, ypred):\n",
    "        return np.sum(CustoPerceptron.erro(y, ypred)**2)\n",
    "    @staticmethod\n",
    "    def gradiente(y, ypred, X):\n",
    "        return np.matmul(X.T ,CustoPerceptron.erro(y, ypred))"
   ]
  },
  {
   "cell_type": "markdown",
   "metadata": {},
   "source": [
    "## Perceptron"
   ]
  },
  {
   "cell_type": "code",
   "execution_count": null,
   "metadata": {},
   "outputs": [],
   "source": [
    "from sklearn.base import BaseEstimator, ClassifierMixin\n",
    "\n",
    "class Perceptron(BaseEstimator, ClassifierMixin):\n",
    "    \n",
    "    def __init__(self, custo=CustoPerceptron(), alpha=0.1):\n",
    "        self.w = None\n",
    "        self.activation = lambda a: (a >= 0)*2-1\n",
    "        self.alpha = alpha\n",
    "        self.maxiter = 200\n",
    "        self.custo = custo\n",
    "\n",
    "    @staticmethod\n",
    "    def includebias(X):\n",
    "        bias = np.ones((X.shape[0],1))\n",
    "        Xb = np.concatenate((bias, X), axis=1)\n",
    "        return Xb\n",
    "\n",
    "    def fit(self, X ,y):\n",
    "        Xb = Perceptron.includebias(X)\n",
    "        self.labels = list(set(y))\n",
    "        if len(self.labels) > 2:\n",
    "            y = label_binarize(y, classes=self.labels)*2-1\n",
    "            self.w = np.random.uniform(-1, 1, size=(Xb.shape[1], y.shape[1]))\n",
    "        else:\n",
    "            self.w = np.random.uniform(-1, 1, size=Xb.shape[1])\n",
    "        for _ in range(self.maxiter):\n",
    "            a = self.preactivate(X)\n",
    "            ypred = self.activation(a)\n",
    "            custo = self.custo.custo(y, ypred)\n",
    "            if custo == 0:\n",
    "                break\n",
    "            self.w = self.w + self.alpha * self.custo.gradiente(y, ypred, Xb)\n",
    "    \n",
    "    def preactivate(self, X):\n",
    "        Xb = Perceptron.includebias(X)\n",
    "        return np.matmul(Xb, self.w)\n",
    "\n",
    "    def predict(self, X):\n",
    "        a = self.preactivate(X)\n",
    "        if len(self.w.shape) > 1:\n",
    "            idx = np.argmax(a, axis=1)\n",
    "            ypred = np.array([self.labels[i] for i in idx])\n",
    "        else:\n",
    "            ypred = self.activation(a)\n",
    "        return ypred"
   ]
  },
  {
   "cell_type": "code",
   "execution_count": null,
   "metadata": {},
   "outputs": [],
   "source": [
    "perceptron = Perceptron()\n",
    "perceptron.fit(X, y)\n",
    "ypred = perceptron.predict(X)\n",
    "ypred\n",
    "print(sum(y == ypred)/len(y))\n",
    "print(perceptron.w[1:], perceptron.w[0])\n",
    "\n",
    "plotadataset(X, y)\n",
    "for i in range(len(set(y))):\n",
    "    plotahiperplano(perceptron.w[1:, i], perceptron.w[0, i], min(X[:,0]), max(X[:,0]))"
   ]
  }
 ],
 "metadata": {
  "kernelspec": {
   "display_name": ".venv",
   "language": "python",
   "name": "python3"
  },
  "language_info": {
   "codemirror_mode": {
    "name": "ipython",
    "version": 3
   },
   "file_extension": ".py",
   "mimetype": "text/x-python",
   "name": "python",
   "nbconvert_exporter": "python",
   "pygments_lexer": "ipython3",
   "version": "3.11.9"
  }
 },
 "nbformat": 4,
 "nbformat_minor": 2
}
