{
 "cells": [
  {
   "cell_type": "markdown",
   "metadata": {},
   "source": [
    "## Implementação Intuitiva de uma Árvore de Decisão para atributos discretos"
   ]
  },
  {
   "cell_type": "code",
   "execution_count": null,
   "metadata": {},
   "outputs": [],
   "source": [
    "# import urllib.request\n",
    "# url = \"https://archive.ics.uci.edu/ml/machine-learning-datasets/car/car.data\"\n",
    "# urllib.request.urlretrieve(url, 'car.data')\n",
    "# Don't work anymore"
   ]
  },
  {
   "cell_type": "code",
   "execution_count": null,
   "metadata": {},
   "outputs": [],
   "source": [
    "import numpy as np\n",
    "data = np.loadtxt('datasets/car.data', dtype='str', delimiter=',')\n",
    "X, y = data[:,:-1],data[:,-1]\n",
    "X.shape, y.shape "
   ]
  },
  {
   "cell_type": "code",
   "execution_count": null,
   "metadata": {},
   "outputs": [],
   "source": [
    "combinacoes = 1\n",
    "for i in range(X.shape[1]):\n",
    "    valores = set(X[:,i])\n",
    "    combinacoes *= len(valores)\n",
    "    print(valores)\n",
    "print(combinacoes)"
   ]
  },
  {
   "cell_type": "code",
   "execution_count": null,
   "metadata": {},
   "outputs": [],
   "source": [
    "from collections import Counter\n",
    "import numpy as np\n",
    "from sklearn.metrics import accuracy_score\n",
    "\n",
    "def maisFrequente(y):\n",
    "    return Counter(y.flat).most_common(1)[0][0]\n",
    "\n",
    "class ZeroR():\n",
    "    def fit(self, X ,y):\n",
    "        self.resposta = maisFrequente(y)\n",
    "    def predict(self, X):\n",
    "        y = np.empty((X.shape[0]), dtype=\"<U5\")\n",
    "        y[:] = self.resposta\n",
    "        return y\n",
    "    \n",
    "modelo = ZeroR()\n",
    "modelo.fit(X, y)\n",
    "ypred = modelo.predict(X)\n",
    "accuracy_score(y, ypred), (ypred == y)"
   ]
  },
  {
   "cell_type": "code",
   "execution_count": null,
   "metadata": {},
   "outputs": [],
   "source": [
    "def impureza(y): #Gini\n",
    "    labels = list(set(y))\n",
    "    labels.sort()\n",
    "    probabilidades = np.zeros((len(labels),))\n",
    "    for i, k in enumerate(labels):\n",
    "        probabilidades[i] = sum(y==k) / len(y)\n",
    "    result = 1 - sum(probabilidades**2)\n",
    "    return result\n",
    "\n",
    "ytmp = y[:]\n",
    "valor = impureza(y)\n",
    "valor"
   ]
  },
  {
   "cell_type": "code",
   "execution_count": null,
   "metadata": {},
   "outputs": [],
   "source": [
    "def impurezaValor(X, y, valor):\n",
    "    iguais = X==valor\n",
    "    impurezaIguais = impureza(y[iguais])\n",
    "    proporcaoIguais = sum(iguais) / len(y)\n",
    "    impurezaDiferentes = impureza(y[~iguais])\n",
    "    proporcaoDiferentes = sum(~iguais) / len(y)\n",
    "    impurezaTotal = proporcaoIguais * impurezaIguais + proporcaoDiferentes * impurezaDiferentes\n",
    "    return impurezaTotal\n",
    "\n",
    "impurezaValor(X[:,0], y, 'vhigh')"
   ]
  },
  {
   "cell_type": "code",
   "execution_count": null,
   "metadata": {},
   "outputs": [],
   "source": [
    "import numpy as np\n",
    "\n",
    "def impurezaMinima(X, y):\n",
    "    impurezas = []\n",
    "    caracteristicasValores = []\n",
    "    for i in range(X.shape[1]):\n",
    "        valores = sorted(list(set(X[:,i])))\n",
    "        for valor in valores:\n",
    "            caracteristicasValores.append([i, valor])\n",
    "            impurezasValorCaracteristica = impurezaValor(X[:,i], y, valor)\n",
    "            impurezas.append(impurezasValorCaracteristica)\n",
    "    caracteristicasValores = np.array(caracteristicasValores)\n",
    "    impurezas = np.array(impurezas)\n",
    "    menorImpureza = np.argmin(impurezas)\n",
    "    caracteristica, valor = caracteristicasValores[menorImpureza]\n",
    "    return impurezas[menorImpureza], int(caracteristica), valor\n",
    "\n",
    "impurezaMinima(X, y)"
   ]
  },
  {
   "cell_type": "code",
   "execution_count": null,
   "metadata": {},
   "outputs": [],
   "source": [
    "from collections import Counter\n",
    "import numpy as np\n",
    "from sklearn.metrics import accuracy_score\n",
    "from sklearn.base import BaseEstimator, ClassifierMixin\n",
    "\n",
    "def maisFrequente(y):\n",
    "    return Counter(y.flat).most_common(1)[0][0]\n",
    "\n",
    "class Arvore(BaseEstimator, ClassifierMixin):\n",
    "    def fit(self, X ,y):\n",
    "        self.impureza, self.caracteristica, self.valor = impurezaMinima(X, y)\n",
    "        iguais = X[:, self.caracteristica] == self.valor\n",
    "        \n",
    "        if sum(iguais) > 0 and sum(~iguais) > 0:\n",
    "            self.iguais = Arvore()\n",
    "            self.iguais.fit(X[iguais,:], y[iguais])\n",
    "            self.diferentes = Arvore()\n",
    "            self.diferentes.fit(X[~iguais,:], y[~iguais])\n",
    "        else:\n",
    "            self.resposta = maisFrequente(y)\n",
    "        \n",
    "    def predict(self, X):\n",
    "        y = np.empty((X.shape[0]), dtype=\"<U5\")\n",
    "        if hasattr(self, 'resposta'):\n",
    "            y[:] = self.resposta\n",
    "        else:\n",
    "            iguais = X[:, self.caracteristica] ==  self.valor\n",
    "            y[iguais] = self.iguais.predict(X[iguais,:])\n",
    "            y[~iguais] = self.diferentes.predict(X[~iguais,:])\n",
    "        return y\n",
    "    \n",
    "modelo = Arvore()\n",
    "modelo.fit(X, y)\n",
    "ypred = modelo.predict(X)\n",
    "accuracy_score(y, ypred), (ypred == y)"
   ]
  },
  {
   "cell_type": "code",
   "execution_count": null,
   "metadata": {},
   "outputs": [],
   "source": [
    "from sklearn.model_selection import cross_validate\n",
    "\n",
    "scores = cross_validate(Arvore(), X, y)\n",
    "\n",
    "scores['test_score'], np.mean(scores['test_score'])"
   ]
  },
  {
   "cell_type": "markdown",
   "metadata": {},
   "source": [
    "## Como visualizar as regiões de decisão de um classificador em um gráfico 2D"
   ]
  },
  {
   "cell_type": "code",
   "execution_count": null,
   "metadata": {},
   "outputs": [],
   "source": [
    "from sklearn.datasets import load_iris\n",
    "\n",
    "iris = load_iris()\n",
    "X, y = iris.data, iris.target"
   ]
  },
  {
   "cell_type": "code",
   "execution_count": null,
   "metadata": {},
   "outputs": [],
   "source": [
    "from collections import Counter\n",
    "import numpy as np\n",
    "from sklearn.metrics import accuracy_score\n",
    "from sklearn.base import BaseEstimator, ClassifierMixin\n",
    "\n",
    "def maisFrequente(y):\n",
    "    return Counter(y.flat).most_common(1)[0][0]\n",
    "\n",
    "class Arvore(BaseEstimator, ClassifierMixin):\n",
    "    def __init__(self):\n",
    "        self.caracteristica = 0\n",
    "    def fit(self, X ,y):\n",
    "        self.valor = np.mean(X[:, self.caracteristica])\n",
    "        maiores = X[:, self.caracteristica] > self.valor\n",
    "        if sum(maiores) > 0 and sum(~maiores) > 0:\n",
    "            self.maiores = Arvore()\n",
    "            self.maiores.fit(X[maiores,:], y[maiores])\n",
    "            self.menores = Arvore()\n",
    "            self.menores.fit(X[~maiores,:], y[~maiores])\n",
    "        else:\n",
    "            self.resposta = maisFrequente(y)\n",
    "    def predict(self, X):\n",
    "        y = np.empty((X.shape[0]))\n",
    "        if hasattr(self, 'resposta'):\n",
    "            y[:] = self.resposta\n",
    "        else:\n",
    "            maiores = X[:, self.caracteristica] > self.valor\n",
    "            y[maiores] = self.maiores.predict(X[maiores,:])\n",
    "            y[~maiores] = self.menores.predict(X[~maiores,:])\n",
    "        return y\n",
    "    \n",
    "modelo = Arvore()\n",
    "modelo.fit(X, y)\n",
    "ypred = modelo.predict(X)\n",
    "accuracy_score(y, ypred), (ypred == y)"
   ]
  },
  {
   "cell_type": "code",
   "execution_count": null,
   "metadata": {},
   "outputs": [],
   "source": [
    "import matplotlib.pyplot as plt\n",
    "import numpy as np\n",
    "\n",
    "def plotDecisao(modelo, X, y):\n",
    "    modelo.fit(X, y)\n",
    "    x0s = np.linspace(np.min(X[:, 0]) - 0.2, np.max(X[:, 0]) + 0.2, 100)\n",
    "    x1s = np.linspace(np.min(X[:, 1]) - 0.2, np.max(X[:, 1]) + 0.2, 100)\n",
    "    x0, x1 = np.meshgrid(x0s, x1s)\n",
    "    Xdec = np.c_[x0.ravel(), x1.ravel()]\n",
    "    ypred = modelo.predict(Xdec)\n",
    "    plt.contourf(x0, x1, ypred.reshape(x0.shape), alpha=0.25)\n",
    "    for k in set(y):\n",
    "        plt.plot(X[:,0][y == k], X[:,1][y == k], 'o', label=f\"{iris.target_names[k]} [{k}]\")\n",
    "    plt.xlabel(f\"X[0]: {iris.feature_names[0]}\")\n",
    "    plt.ylabel(f\"X[1]: {iris.feature_names[1]}\")\n",
    "    plt.show()"
   ]
  },
  {
   "cell_type": "code",
   "execution_count": null,
   "metadata": {},
   "outputs": [],
   "source": [
    "plotDecisao(Arvore(), X, y)"
   ]
  },
  {
   "cell_type": "code",
   "execution_count": null,
   "metadata": {},
   "outputs": [],
   "source": [
    "from sklearn.tree import DecisionTreeClassifier\n",
    "plotDecisao(DecisionTreeClassifier(), X, y)"
   ]
  },
  {
   "cell_type": "code",
   "execution_count": null,
   "metadata": {},
   "outputs": [],
   "source": [
    "from sklearn.neighbors import KNeighborsClassifier\n",
    "plotDecisao(KNeighborsClassifier(), X, y)"
   ]
  },
  {
   "cell_type": "code",
   "execution_count": null,
   "metadata": {},
   "outputs": [],
   "source": [
    "from sklearn.neighbors import KNeighborsClassifier\n",
    "plotDecisao(KNeighborsClassifier(), X, y)"
   ]
  },
  {
   "cell_type": "markdown",
   "metadata": {},
   "source": [
    "## Heurística Gulosa para encontrar os melhores valrores para cada característica"
   ]
  },
  {
   "cell_type": "code",
   "execution_count": null,
   "metadata": {},
   "outputs": [],
   "source": [
    "def impureza(y): #Gini\n",
    "    labels = list(set(y))\n",
    "    labels.sort()\n",
    "    probabilidades = np.zeros((len(labels),))\n",
    "    for i, k in enumerate(labels):\n",
    "        probabilidades[i] = sum(y==k) / len(y)\n",
    "    result = 1 - sum(probabilidades**2)\n",
    "    return result\n",
    "\n",
    "ytmp = y[:]\n",
    "valor = impureza(y)\n",
    "valor"
   ]
  },
  {
   "cell_type": "code",
   "execution_count": null,
   "metadata": {},
   "outputs": [],
   "source": [
    "def impurezaValor(x, y, valor):\n",
    "    maiores = x > valor\n",
    "    impurezaMaiores = impureza(y[maiores])\n",
    "    propMaiores = sum(maiores) / len(y)\n",
    "    impurezaMenores = impureza(y[~maiores])\n",
    "    propMenores = sum(~maiores) / len(y)\n",
    "    impurezaTotal = propMaiores * impurezaMaiores + propMenores * impurezaMenores\n",
    "    return impurezaTotal, impurezaMaiores, impurezaMenores\n",
    "\n",
    "impurezaValor(X[:,0], y, 2)"
   ]
  },
  {
   "cell_type": "code",
   "execution_count": null,
   "metadata": {},
   "outputs": [],
   "source": [
    "def melhorValor(x, y):\n",
    "    result = None\n",
    "    menorImpureza = float('inf')\n",
    "    xmax = np.max(x)\n",
    "    xmin = np.min(x)\n",
    "    while True:\n",
    "        valor = (xmin + xmax) / 2\n",
    "        impTotal, impMaiores, impMenores = impurezaValor(x, y , valor)\n",
    "        if impTotal < menorImpureza:\n",
    "            menorImpureza = impTotal\n",
    "            result = valor\n",
    "            if impMaiores == 0 or impMenores == 0:\n",
    "                break\n",
    "            if impMaiores < impMenores:\n",
    "                xmin = valor\n",
    "            else:\n",
    "                xmax = valor\n",
    "        else:\n",
    "            break\n",
    "    return result, menorImpureza\n",
    "\n",
    "melhorValor(X[:,0], y)"
   ]
  },
  {
   "cell_type": "code",
   "execution_count": null,
   "metadata": {},
   "outputs": [],
   "source": [
    "def melhorCaracteristica(X, y):\n",
    "    impurezas = []\n",
    "    valores = []\n",
    "    for caracteristica in range(X.shape[1]):\n",
    "        valor, imp = melhorValor(X[:, caracteristica], y)\n",
    "        impurezas.append(imp)\n",
    "        valores.append(valor)\n",
    "    impurezas = np.array(impurezas)\n",
    "    caracteristica = np.argmin(impurezas)\n",
    "    return caracteristica, valores[caracteristica], impurezas[caracteristica]\n",
    "\n",
    "print(melhorCaracteristica(X, y))"
   ]
  },
  {
   "cell_type": "code",
   "execution_count": null,
   "metadata": {},
   "outputs": [],
   "source": [
    "from collections import Counter\n",
    "import numpy as np\n",
    "from sklearn.metrics import accuracy_score\n",
    "from sklearn.base import BaseEstimator, ClassifierMixin\n",
    "\n",
    "def maisFrequente(y):\n",
    "    return Counter(y.flat).most_common(1)[0][0]\n",
    "\n",
    "class Arvore(BaseEstimator, ClassifierMixin):\n",
    "    def fit(self, X ,y):\n",
    "        self.caracteristica, self.valor, self.impureza = melhorCaracteristica(X, y)\n",
    "        maiores = X[:, self.caracteristica] > self.valor\n",
    "        if sum(maiores) > 0 and sum(~maiores) > 0:\n",
    "            self.maiores = Arvore()\n",
    "            self.maiores.fit(X[maiores,:], y[maiores])\n",
    "            self.menores = Arvore()\n",
    "            self.menores.fit(X[~maiores,:], y[~maiores])\n",
    "        else:\n",
    "            self.resposta = maisFrequente(y)\n",
    "    def predict(self, X):\n",
    "        y = np.empty((X.shape[0]))\n",
    "        if hasattr(self, 'resposta'):\n",
    "            y[:] = self.resposta\n",
    "        else:\n",
    "            maiores = X[:, self.caracteristica] > self.valor\n",
    "            y[maiores] = self.maiores.predict(X[maiores,:])\n",
    "            y[~maiores] = self.menores.predict(X[~maiores,:])\n",
    "        return y\n",
    "    \n",
    "modelo = Arvore()\n",
    "modelo.fit(X, y)\n",
    "ypred = modelo.predict(X)\n",
    "accuracy_score(y, ypred), (ypred == y)"
   ]
  },
  {
   "cell_type": "code",
   "execution_count": null,
   "metadata": {},
   "outputs": [],
   "source": [
    "plotDecisao(Arvore(), X, y)"
   ]
  },
  {
   "cell_type": "code",
   "execution_count": null,
   "metadata": {},
   "outputs": [],
   "source": [
    "from sklearn.model_selection import cross_validate\n",
    "\n",
    "scores = cross_validate(Arvore(), X, y)\n",
    "\n",
    "scores['test_score'], np.mean(scores['test_score'])"
   ]
  }
 ],
 "metadata": {
  "kernelspec": {
   "display_name": ".venv",
   "language": "python",
   "name": "python3"
  },
  "language_info": {
   "codemirror_mode": {
    "name": "ipython",
    "version": 3
   },
   "file_extension": ".py",
   "mimetype": "text/x-python",
   "name": "python",
   "nbconvert_exporter": "python",
   "pygments_lexer": "ipython3",
   "version": "3.11.9"
  }
 },
 "nbformat": 4,
 "nbformat_minor": 2
}
