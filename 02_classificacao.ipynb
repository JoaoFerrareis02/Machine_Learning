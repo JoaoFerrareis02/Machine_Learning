{
 "cells": [
  {
   "cell_type": "code",
   "execution_count": null,
   "metadata": {},
   "outputs": [],
   "source": [
    "from sklearn.datasets import load_breast_cancer\n",
    "brest_cancer = load_breast_cancer()\n",
    "brest_cancer.keys()"
   ]
  },
  {
   "cell_type": "code",
   "execution_count": null,
   "metadata": {},
   "outputs": [],
   "source": [
    "X, y = brest_cancer.data, brest_cancer.target\n",
    "X.shape, y.shape"
   ]
  },
  {
   "cell_type": "code",
   "execution_count": null,
   "metadata": {},
   "outputs": [],
   "source": [
    "import matplotlib.pyplot as plt\n",
    "for i in range(3):\n",
    "    plt.xlabel(f\"{i}: {brest_cancer.feature_names[i]}\")\n",
    "    plt.ylabel(\"Classificação\")\n",
    "    plt.scatter(X[:,i], y)\n",
    "    plt.show()"
   ]
  },
  {
   "cell_type": "code",
   "execution_count": null,
   "metadata": {},
   "outputs": [],
   "source": [
    "X27 = X[:,27:28]\n",
    "plt.xlabel(f\"27: {brest_cancer.feature_names[27]}\")\n",
    "plt.ylabel(\"Classificação\")\n",
    "plt.scatter(X27, y)\n",
    "plt.show()"
   ]
  },
  {
   "cell_type": "code",
   "execution_count": null,
   "metadata": {},
   "outputs": [],
   "source": [
    "from sklearn.linear_model import LinearRegression\n",
    "from sklearn.metrics import mean_squared_error\n",
    "\n",
    "class ClassificadorLinear():\n",
    "    def __init__(self):\n",
    "        self.lrmodel = LinearRegression()\n",
    "    def fit(self, X, y):\n",
    "        self.lrmodel.fit(X,y)\n",
    "    def predict(self, X):\n",
    "        ypred = self.lrmodel.predict(X)\n",
    "        ypred = (ypred > 0.5).astype(int)\n",
    "        return ypred\n",
    "\n",
    "plt.xlabel(f\"27: {brest_cancer.feature_names[27]}\")\n",
    "plt.ylabel(\"Classificação\")\n",
    "plt.scatter(X27, y)\n",
    "modelo = ClassificadorLinear()\n",
    "modelo.fit(X27, y)\n",
    "ypred = modelo.predict(X27)\n",
    "erro = mean_squared_error(y, ypred)\n",
    "plt.plot(X27, ypred, 'ro', label=f\"erro: {erro}\", alpha=0.5)\n",
    "plt.legend()\n",
    "plt.show()"
   ]
  },
  {
   "cell_type": "code",
   "execution_count": null,
   "metadata": {},
   "outputs": [],
   "source": [
    "acuracia = sum(y == ypred)/ len(y)\n",
    "acuracia, 1 - erro"
   ]
  },
  {
   "cell_type": "code",
   "execution_count": null,
   "metadata": {},
   "outputs": [],
   "source": [
    "from sklearn.metrics import accuracy_score\n",
    "print(accuracy_score(y, ypred))"
   ]
  },
  {
   "cell_type": "code",
   "execution_count": null,
   "metadata": {},
   "outputs": [],
   "source": [
    "from sklearn.linear_model import LinearRegression\n",
    "from sklearn.metrics import accuracy_score\n",
    "\n",
    "class ClassificadorLinear():\n",
    "    def __init__(self):\n",
    "        self.lrmodel = LinearRegression()\n",
    "    def fit(self, X, y):\n",
    "        self.lrmodel.fit(X,y)\n",
    "    def predict(self, X):\n",
    "        ypred = self.lrmodel.predict(X)\n",
    "        ypred = (ypred > 0.5).astype(int)\n",
    "        return ypred\n",
    "\n",
    "plt.xlabel(f\"27: {brest_cancer.feature_names[27]}\")\n",
    "plt.ylabel(\"Classificação\")\n",
    "plt.scatter(X27, y)\n",
    "modelo = ClassificadorLinear()\n",
    "modelo.fit(X27, y)\n",
    "ypred = modelo.predict(X27)\n",
    "acuracia = accuracy_score(y, ypred)\n",
    "plt.plot(X27, ypred, 'ro', label=f\"acurácia: {acuracia}\", alpha=0.5)\n",
    "plt.legend()\n",
    "plt.show()"
   ]
  },
  {
   "cell_type": "code",
   "execution_count": null,
   "metadata": {},
   "outputs": [],
   "source": [
    "modelo = ClassificadorLinear()\n",
    "modelo.fit(X, y)"
   ]
  },
  {
   "cell_type": "code",
   "execution_count": null,
   "metadata": {},
   "outputs": [],
   "source": [
    "import numpy as np\n",
    "\n",
    "delta = [0.125,0.1,0.02,0.005,25,25,50,50,20,50,10,4,1,0.05,600,200,100,200,200,1000,0.1,0.1,0.02,0.002,25,10,10,15,10,30,1]\n",
    "\n",
    "def plot(i):\n",
    "    erros  = []\n",
    "    coef = modelo.lrmodel.coef_[i]\n",
    "    ws = np.linspace(coef - delta[i], coef + delta[i], 101)\n",
    "    for w in ws:\n",
    "        modelo.lrmodel.coef_[i] = w\n",
    "        ypred = modelo.predict(X)\n",
    "        erro = mean_squared_error(y, ypred)\n",
    "        erros.append(erro)\n",
    "    modelo.lrmodel.coef_[i] = coef\n",
    "    plt.ylabel(\"Erro\")\n",
    "    plt.xlabel(f\"W[{i}]\")\n",
    "    plt.plot(ws, erros)\n",
    "    plt.show()\n",
    "\n",
    "for i in range(len(modelo.lrmodel.coef_)):\n",
    "    plot(i)"
   ]
  },
  {
   "cell_type": "code",
   "execution_count": null,
   "metadata": {},
   "outputs": [],
   "source": [
    "i = 13\n",
    "erros  = []\n",
    "coef = modelo.lrmodel.coef_[i]\n",
    "ws = np.linspace(coef - 0.007, coef + 0.002, 101)\n",
    "for w in ws:\n",
    "    modelo.lrmodel.coef_[i] = w\n",
    "    ypred = modelo.predict(X)\n",
    "    erro = mean_squared_error(y, ypred)\n",
    "    erros.append(erro)\n",
    "modelo.lrmodel.coef_[i] = coef\n",
    "plt.ylabel(\"Erro\")\n",
    "plt.xlabel(f\"W[{i}]\")\n",
    "plt.plot(ws, erros)\n",
    "plt.show()"
   ]
  },
  {
   "cell_type": "code",
   "execution_count": null,
   "metadata": {},
   "outputs": [],
   "source": [
    "# Classificacao Multiclasse\n",
    "from sklearn.datasets import load_iris\n",
    "iris = load_iris()\n",
    "X, y = iris.data, iris.target\n",
    "X.shape, y.shape, set(y)"
   ]
  },
  {
   "cell_type": "code",
   "execution_count": null,
   "metadata": {},
   "outputs": [],
   "source": [
    "X2 = X[:,2:3]\n",
    "plt.xlabel(f\"2: {iris.feature_names[2]}\")\n",
    "plt.ylabel(\"Classificação\")\n",
    "plt.scatter(X2, y)\n",
    "plt.show()"
   ]
  },
  {
   "cell_type": "code",
   "execution_count": null,
   "metadata": {},
   "outputs": [],
   "source": [
    "from sklearn.linear_model import LinearRegression\n",
    "from sklearn.metrics import mean_squared_error\n",
    "\n",
    "class ClassificadorLinear():\n",
    "    def __init__(self):\n",
    "        self.lrmodel = LinearRegression()\n",
    "    def fit(self, X, y):\n",
    "        self.lrmodel.fit(X,y)\n",
    "    def predict(self, X):\n",
    "        ypred = self.lrmodel.predict(X)\n",
    "        # ypred = (ypred > 0.5).astype(int)\n",
    "        return ypred\n",
    "\n",
    "plt.xlabel(f\"2: {iris.feature_names[2]}\")\n",
    "plt.ylabel(\"Classificação\")\n",
    "plt.scatter(X2, y)\n",
    "modelo = ClassificadorLinear()\n",
    "modelo.fit(X, y)\n",
    "ypred = modelo.predict(X)\n",
    "erro = mean_squared_error(y, ypred)\n",
    "plt.plot(X2, ypred, 'ro', label=f\"erro: {erro}\", alpha=0.5)\n",
    "plt.legend()\n",
    "plt.show()"
   ]
  },
  {
   "cell_type": "code",
   "execution_count": null,
   "metadata": {},
   "outputs": [],
   "source": [
    "from sklearn.linear_model import LinearRegression\n",
    "from sklearn.metrics import accuracy_score\n",
    "\n",
    "class ClassificadorLinear():\n",
    "    def __init__(self):\n",
    "        self.lrmodel = LinearRegression()\n",
    "    def fit(self, X, y):\n",
    "        self.lrmodel.fit(X,y)\n",
    "    def predict(self, X):\n",
    "        ypred = self.lrmodel.predict(X)\n",
    "        ypred = np.rint(ypred)\n",
    "        return ypred\n",
    "\n",
    "plt.xlabel(f\"2: {iris.feature_names[2]}\")\n",
    "plt.ylabel(\"Classificação\")\n",
    "plt.scatter(X2, y)\n",
    "modelo = ClassificadorLinear()\n",
    "modelo.fit(X, y)\n",
    "ypred = modelo.predict(X)\n",
    "acuracia = accuracy_score(y, ypred)\n",
    "plt.plot(X2, ypred, 'ro', label=f\"acurácia: {acuracia}\", alpha=0.5)\n",
    "plt.legend()\n",
    "plt.show()"
   ]
  },
  {
   "cell_type": "code",
   "execution_count": null,
   "metadata": {},
   "outputs": [],
   "source": [
    "from sklearn.linear_model import LogisticRegression\n",
    "from sklearn.metrics import accuracy_score\n",
    "\n",
    "plt.xlabel(f\"2: {iris.feature_names[2]}\")\n",
    "plt.ylabel(\"Classificação\")\n",
    "plt.scatter(X2, y)\n",
    "modelo = LogisticRegression()\n",
    "modelo.fit(X, y)\n",
    "ypred = modelo.predict(X)\n",
    "acuracia = accuracy_score(y, ypred)\n",
    "plt.plot(X2, ypred, 'ro', label=f\"acurácia: {acuracia}\", alpha=0.5)\n",
    "plt.legend()\n",
    "plt.show()"
   ]
  },
  {
   "cell_type": "code",
   "execution_count": null,
   "metadata": {},
   "outputs": [],
   "source": [
    "# Classificação Multirótulo\n",
    "from sklearn.datasets import load_digits\n",
    "digits = load_digits()\n",
    "print(digits.data.shape)\n",
    "\n",
    "import matplotlib.pyplot as plt\n",
    "for i in range(10):\n",
    "    plt.matshow(digits.images[i])\n",
    "    plt.show()"
   ]
  },
  {
   "cell_type": "code",
   "execution_count": null,
   "metadata": {},
   "outputs": [],
   "source": [
    "X, y = digits.data, digits.target\n",
    "X.shape, y.shape"
   ]
  },
  {
   "cell_type": "code",
   "execution_count": null,
   "metadata": {},
   "outputs": [],
   "source": [
    "ynovo = np.c_[y>5, y%2]\n",
    "ynovo.T"
   ]
  },
  {
   "cell_type": "code",
   "execution_count": null,
   "metadata": {},
   "outputs": [],
   "source": [
    "ynovo.shape"
   ]
  },
  {
   "cell_type": "code",
   "execution_count": null,
   "metadata": {},
   "outputs": [],
   "source": [
    "from sklearn.neighbors import KNeighborsClassifier\n",
    "\n",
    "modelo = KNeighborsClassifier()\n",
    "modelo.fit(X, ynovo)\n",
    "ypred = modelo.predict(X)\n",
    "ypred.T"
   ]
  },
  {
   "cell_type": "code",
   "execution_count": null,
   "metadata": {},
   "outputs": [],
   "source": [
    "from sklearn.metrics import accuracy_score\n",
    "\n",
    "acuracia_grandes = accuracy_score(y>5, ypred[:,0])\n",
    "acuracia_impares = accuracy_score(y%2, ypred[:,1])\n",
    "acuracia_grandes, acuracia_impares"
   ]
  },
  {
   "cell_type": "code",
   "execution_count": null,
   "metadata": {},
   "outputs": [],
   "source": [
    "from sklearn.metrics import hamming_loss\n",
    "\n",
    "erro = hamming_loss(ynovo, ypred)\n",
    "erro"
   ]
  }
 ],
 "metadata": {
  "kernelspec": {
   "display_name": ".venv",
   "language": "python",
   "name": "python3"
  },
  "language_info": {
   "codemirror_mode": {
    "name": "ipython",
    "version": 3
   },
   "file_extension": ".py",
   "mimetype": "text/x-python",
   "name": "python",
   "nbconvert_exporter": "python",
   "pygments_lexer": "ipython3",
   "version": "3.11.9"
  }
 },
 "nbformat": 4,
 "nbformat_minor": 2
}
