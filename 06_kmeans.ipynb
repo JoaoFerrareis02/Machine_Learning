{
 "cells": [
  {
   "cell_type": "code",
   "execution_count": null,
   "metadata": {},
   "outputs": [],
   "source": [
    "from sklearn.datasets import load_iris\n",
    "data = load_iris()\n",
    "X = data.data[:,2:4]\n",
    "y = data.target\n",
    "data.target_names"
   ]
  },
  {
   "cell_type": "code",
   "execution_count": null,
   "metadata": {},
   "outputs": [],
   "source": [
    "import matplotlib.pyplot as plt\n",
    "\n",
    "for i in range(len(set(y))):\n",
    "    plt.plot(X[y == i, 0], X[y==i, 1], \".\", label=data.target_names[i])\n",
    "plt.xlabel(\"Petal length\")\n",
    "plt.ylabel(\"Petal width\")\n",
    "plt.legend()\n",
    "plt.show()"
   ]
  },
  {
   "cell_type": "code",
   "execution_count": null,
   "metadata": {},
   "outputs": [],
   "source": [
    "plt.scatter(X[:,0], X[:,1], marker=\".\")\n",
    "plt.xlabel(\"Petal length\")\n",
    "plt.ylabel(\"Petal width\")\n",
    "plt.show()"
   ]
  },
  {
   "cell_type": "code",
   "execution_count": null,
   "metadata": {},
   "outputs": [],
   "source": [
    "from sklearn.base import BaseEstimator, ClusterMixin, TransformerMixin\n",
    "import numpy as np\n",
    "import random\n",
    "\n",
    "class Kmeans(BaseEstimator, ClusterMixin, TransformerMixin):\n",
    "    \n",
    "    def __init__(self, n_clusters=3):\n",
    "        self.n_clusters = n_clusters\n",
    "    \n",
    "    def _init_centroids(self, X):\n",
    "        min = np.min(X, axis=0)\n",
    "        max = np.max(X, axis=0)\n",
    "        centroids = []\n",
    "        for i in range(self.n_clusters):\n",
    "            centroid = []\n",
    "            for j in range(X.shape[1]):\n",
    "                centroid.append(random.uniform(min[j],max[j]))\n",
    "            centroids.append(centroid)\n",
    "        self.cluster_centers_ = np.array(centroids)\n",
    "    \n",
    "    def fit(self, X, y=None):\n",
    "        self._init_centroids(X)\n",
    "        previous_centroids = self.cluster_centers_.copy()\n",
    "        while True:\n",
    "            ypred = self.predict(X)\n",
    "            for i in range(self.n_clusters):\n",
    "                if np.any(ypred == i):\n",
    "                    self.cluster_centers_[i] = np.mean(X[ypred==i], axis=0)\n",
    "            if np.allclose(previous_centroids, self.cluster_centers_, atol=0.0001):\n",
    "                break\n",
    "            previous_centroids = self.cluster_centers_.copy()\n",
    "\n",
    "    \n",
    "    def _distancias(self, X):\n",
    "        diferenca = self.cluster_centers_ - X\n",
    "        quadrado = diferenca ** 2\n",
    "        soma = np.sum(quadrado, axis=1)\n",
    "        raiz = np.sqrt(soma)\n",
    "        return raiz\n",
    "    \n",
    "    def predict(self, X):\n",
    "        ypred = np.empty((X.shape[0],))\n",
    "        for i in range(X.shape[0]):\n",
    "            distancias = self._distancias(X[i])\n",
    "            centroid = np.argmin(distancias)\n",
    "            ypred[i] = centroid\n",
    "        return ypred\n",
    "\n",
    "\n",
    "kmeans = Kmeans()\n",
    "kmeans.fit(X)\n",
    "print(kmeans.cluster_centers_) \n",
    "\n",
    "plt.scatter(X[:,0],X[:,1], marker=\".\")\n",
    "plt.scatter(kmeans.cluster_centers_[:,0], kmeans.cluster_centers_[:,1], marker=\"x\", color=\"r\", s=100, linewidths=3)\n",
    "plt.xlabel(\"Petal length\")\n",
    "plt.ylabel(\"Petal width\")\n",
    "plt.show()\n"
   ]
  },
  {
   "cell_type": "code",
   "execution_count": null,
   "metadata": {},
   "outputs": [],
   "source": [
    "for i in range(len(set(y))):\n",
    "    plt.plot(X[y == i, 0], X[y==i, 1], \"s\", label=data.target_names[i])\n",
    "    plt.scatter(kmeans.cluster_centers_[:,0], kmeans.cluster_centers_[:,1], marker=\"x\", color=\"r\", s=100, linewidths=3)\n",
    "ypred = kmeans.predict(X)\n",
    "for i in range(len(set(ypred))):\n",
    "    plt.plot(X[ypred == i, 0], X[ypred==i, 1], \".\", label=data.target_names[i])\n",
    "plt.xlabel(\"Petal length\")\n",
    "plt.ylabel(\"Petal width\")\n",
    "plt.legend()\n",
    "plt.show()"
   ]
  },
  {
   "cell_type": "code",
   "execution_count": null,
   "metadata": {},
   "outputs": [],
   "source": [
    "from sklearn.cluster import KMeans\n",
    "\n",
    "kmeans = KMeans(n_clusters=3)\n",
    "kmeans.fit(X)\n",
    "print(kmeans.cluster_centers_) \n",
    "\n",
    "plt.scatter(X[:,0],X[:,1], marker=\".\")\n",
    "plt.scatter(kmeans.cluster_centers_[:,0], kmeans.cluster_centers_[:,1], marker=\"x\", color=\"r\", s=100, linewidths=3)\n",
    "plt.xlabel(\"Petal length\")\n",
    "plt.ylabel(\"Petal width\")\n",
    "plt.show()"
   ]
  }
 ],
 "metadata": {
  "kernelspec": {
   "display_name": ".venv",
   "language": "python",
   "name": "python3"
  },
  "language_info": {
   "codemirror_mode": {
    "name": "ipython",
    "version": 3
   },
   "file_extension": ".py",
   "mimetype": "text/x-python",
   "name": "python",
   "nbconvert_exporter": "python",
   "pygments_lexer": "ipython3",
   "version": "3.11.9"
  }
 },
 "nbformat": 4,
 "nbformat_minor": 2
}
