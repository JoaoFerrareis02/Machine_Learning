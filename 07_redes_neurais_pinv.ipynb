{
 "cells": [
  {
   "cell_type": "code",
   "execution_count": null,
   "metadata": {},
   "outputs": [],
   "source": [
    "import numpy as np\n",
    "import matplotlib.pyplot as plt\n",
    "from sklearn.datasets import make_blobs\n",
    "from sklearn.preprocessing import label_binarize\n",
    "\n",
    "def geradataset(tamanho=20, centro=2):\n",
    "    X, y = make_blobs(n_samples=tamanho, centers=centro, center_box=(0,1.0), cluster_std=0.02)\n",
    "    return X, y\n",
    "\n",
    "def plotadataset(X, y):\n",
    "    plt.xlabel(\"X1\")\n",
    "    plt.ylabel(\"X2\")\n",
    "    for k in set(y):\n",
    "        plt.plot(X[:,0][y==k],X[:,1][y==k],\"o\", alpha=0.3)\n",
    "\n",
    "\n",
    "def plotahiperplano(vetor, bias=0, xmin=0, xmax=1):\n",
    "    xs = np.linspace(xmin, xmax, num=2)\n",
    "    ys = (-vetor[0] / vetor[1]) * xs - bias / vetor[1]\n",
    "    plt.plot(xs, ys)\n",
    "    \n",
    "\n",
    "X, y = geradataset(100, 3)\n",
    "plotadataset(X, y)\n",
    "plt.show()\n",
    "y"
   ]
  },
  {
   "cell_type": "markdown",
   "metadata": {},
   "source": [
    "## Função de Custo"
   ]
  },
  {
   "cell_type": "code",
   "execution_count": null,
   "metadata": {},
   "outputs": [],
   "source": [
    "class CustoPerceptron():\n",
    "    @staticmethod\n",
    "    def erro(y, ypred):\n",
    "        return y - ypred\n",
    "    @staticmethod\n",
    "    def custo(y, ypred):\n",
    "        return np.sum(CustoPerceptron.erro(y, ypred)**2)\n",
    "    @staticmethod\n",
    "    def gradiente(y, ypred, X):\n",
    "        return np.matmul(X.T ,CustoPerceptron.erro(y, ypred))\n",
    "    \n",
    "class Adaline():\n",
    "    def __init__(self):\n",
    "        self.preactivated = True\n",
    "    @staticmethod\n",
    "    def erro(y, ypred):\n",
    "        return y - ypred\n",
    "    @staticmethod\n",
    "    def custo(y, ypred):\n",
    "        return np.sum((1 - Adaline.erro(y, ypred)) ** 2)\n",
    "    @staticmethod\n",
    "    def gradiente(y, ypred, X):\n",
    "        return np.matmul(X.T, Adaline.erro(y, ypred))"
   ]
  },
  {
   "cell_type": "markdown",
   "metadata": {},
   "source": [
    "## Algoritmos"
   ]
  },
  {
   "cell_type": "code",
   "execution_count": null,
   "metadata": {},
   "outputs": [],
   "source": [
    "class DescidaGradiente():\n",
    "    def __init__(self, custo=Adaline(), maxiter=1000, alpha=0.005):\n",
    "        self.custo = custo\n",
    "        self. maxiter = maxiter\n",
    "        self.alpha = alpha\n",
    "    \n",
    "    def getW(self, X, y, activation=lambda a: a):\n",
    "        w = np.random.uniform(-1, 1, size=(X.shape[1], y.shape[1]))\n",
    "        for _ in range(self.maxiter):\n",
    "            ypred = activation(np.matmul(X, w))\n",
    "            custo = self.custo.custo(y, ypred)\n",
    "            if custo == 0:\n",
    "                break\n",
    "            w = w + self.alpha * self.custo.gradiente(y, ypred, X)\n",
    "        return w\n",
    "\n",
    "class PseudoInversa():\n",
    "    def __init__(self):\n",
    "        pass\n",
    "    def getW(self, X, y):\n",
    "        pinv = np.linalg.pinv(X)\n",
    "        w = np.matmul(pinv, y)\n",
    "        return w"
   ]
  },
  {
   "cell_type": "markdown",
   "metadata": {},
   "source": [
    "## Perceptron"
   ]
  },
  {
   "cell_type": "code",
   "execution_count": null,
   "metadata": {},
   "outputs": [],
   "source": [
    "from sklearn.base import BaseEstimator, ClassifierMixin\n",
    "\n",
    "class Perceptron(BaseEstimator, ClassifierMixin):\n",
    "    \n",
    "    def __init__(self, algoritmo=DescidaGradiente(Adaline())):\n",
    "        self.w = None\n",
    "        self.activation = lambda a: (a >= 0)*2-1\n",
    "        self.threshold = 0\n",
    "        self.algoritmo = algoritmo\n",
    "\n",
    "    @staticmethod\n",
    "    def includebias(X):\n",
    "        bias = np.ones((X.shape[0],1))\n",
    "        Xb = np.concatenate((bias, X), axis=1)\n",
    "        return Xb\n",
    "\n",
    "    def fit(self, X ,y):\n",
    "        X = Perceptron.includebias(X)\n",
    "        self.labels = list(set(y))\n",
    "        y = label_binarize(y, classes=self.labels)*2 - 1\n",
    "        if len(self.labels) == 2:\n",
    "            y = y[:,0:1]\n",
    "        # Treinamento\n",
    "        if hasattr(self.algoritmo, 'custo') and not (hasattr(self.algoritmo.custo, 'preactivated') and  self.algoritmo.custo.preactivated):\n",
    "            self.w  = self.algoritmo.getW(X, y, self.activation)\n",
    "        else:\n",
    "            self.w  = self.algoritmo.getW(X, y)\n",
    "        \n",
    "\n",
    "    def predict(self, X):\n",
    "        Xb = Perceptron.includebias(X)\n",
    "        a = np.matmul(Xb, self.w)\n",
    "        if self.w.shape[1] > 1:\n",
    "            idx = np.argmax(a, axis=1)\n",
    "        else:\n",
    "            idx = np.array(self.activation(a) > self.threshold, dtype=int)[:,0]\n",
    "        ypred = np.array([self.labels[i] for i in idx])\n",
    "        return ypred"
   ]
  },
  {
   "cell_type": "code",
   "execution_count": null,
   "metadata": {},
   "outputs": [],
   "source": [
    "perceptron = Perceptron(DescidaGradiente(Adaline()))\n",
    "perceptron.fit(X, y)\n",
    "ypred = perceptron.predict(X)\n",
    "ypred\n",
    "print(sum(y == ypred)/len(y))\n",
    "print(perceptron.w[1:], perceptron.w[0])\n",
    "\n",
    "plotadataset(X, y)\n",
    "if len(set(y)) > 2:\n",
    "    for i in range(len(set(y))):\n",
    "        plotahiperplano(perceptron.w[1:, i], perceptron.w[0, i], min(X[:,0]), max(X[:,0]))\n",
    "else:\n",
    "    plotahiperplano(perceptron.w[1:], perceptron.w[0])"
   ]
  },
  {
   "cell_type": "code",
   "execution_count": null,
   "metadata": {},
   "outputs": [],
   "source": [
    "perceptron = Perceptron(DescidaGradiente(CustoPerceptron()))\n",
    "perceptron.fit(X, y)\n",
    "ypred = perceptron.predict(X)\n",
    "ypred\n",
    "print(sum(y == ypred)/len(y))\n",
    "print(perceptron.w[1:], perceptron.w[0])\n",
    "\n",
    "plotadataset(X, y)\n",
    "if len(set(y)) > 2:\n",
    "    for i in range(len(set(y))):\n",
    "        plotahiperplano(perceptron.w[1:, i], perceptron.w[0, i], min(X[:,0]), max(X[:,0]))\n",
    "else:\n",
    "    plotahiperplano(perceptron.w[1:], perceptron.w[0])"
   ]
  },
  {
   "cell_type": "code",
   "execution_count": null,
   "metadata": {},
   "outputs": [],
   "source": [
    "perceptron = Perceptron(PseudoInversa())\n",
    "perceptron.fit(X, y)\n",
    "ypred = perceptron.predict(X)\n",
    "ypred\n",
    "print(sum(y == ypred)/len(y))\n",
    "print(perceptron.w[1:], perceptron.w[0])\n",
    "\n",
    "plotadataset(X, y)\n",
    "if len(set(y)) > 2:\n",
    "    for i in range(len(set(y))):\n",
    "        plotahiperplano(perceptron.w[1:, i], perceptron.w[0, i], min(X[:,0]), max(X[:,0]))\n",
    "else:\n",
    "    plotahiperplano(perceptron.w[1:], perceptron.w[0])"
   ]
  }
 ],
 "metadata": {
  "kernelspec": {
   "display_name": ".venv",
   "language": "python",
   "name": "python3"
  },
  "language_info": {
   "codemirror_mode": {
    "name": "ipython",
    "version": 3
   },
   "file_extension": ".py",
   "mimetype": "text/x-python",
   "name": "python",
   "nbconvert_exporter": "python",
   "pygments_lexer": "ipython3",
   "version": "3.11.9"
  }
 },
 "nbformat": 4,
 "nbformat_minor": 2
}
