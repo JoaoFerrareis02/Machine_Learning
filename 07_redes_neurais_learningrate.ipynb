{
 "cells": [
  {
   "cell_type": "code",
   "execution_count": null,
   "metadata": {},
   "outputs": [],
   "source": [
    "import numpy as np\n",
    "import matplotlib.pyplot as plt\n",
    "\n",
    "\n",
    "def geradataset(tamanho=20):\n",
    "    X = np.random.uniform(size=(tamanho,2))\n",
    "    y = np.array(X[:,0]>X[:,1]-0.25, dtype=int)*2 - 1\n",
    "    return X, y\n",
    "\n",
    "def plotadataset(X, y):\n",
    "    plt.xlabel(\"X1\")\n",
    "    plt.ylabel(\"X2\")\n",
    "    for k in set(y):\n",
    "        plt.plot(X[:,0][y==k],X[:,1][y==k],\"o\", alpha=0.3)\n",
    "\n",
    "\n",
    "def plotavetor(vetor, cor=\"k\"):\n",
    "    origem = [0,0]\n",
    "    plt.arrow(*origem, *vetor, color=cor)\n",
    "\n",
    "\n",
    "def perpendicular(vetor):\n",
    "    rotaciona = np.array([[0,1],[-1,0]])\n",
    "    perp = np.matmul(np.array(vetor), rotaciona)\n",
    "    return perp\n",
    "\n",
    "def plotahiperplano(vetor, bias=0):\n",
    "    hiperplano = perpendicular(vetor)\n",
    "    plt.arrow(*[0,bias], *(hiperplano-bias))\n",
    "    \n",
    "\n",
    "X, y = geradataset(100)\n",
    "plotadataset(X, y)\n",
    "plotahiperplano([1,-1], 0.25)\n",
    "plt.show()\n"
   ]
  },
  {
   "cell_type": "code",
   "execution_count": null,
   "metadata": {},
   "outputs": [],
   "source": [
    "class Adaline():\n",
    "    def __init__(self):\n",
    "        self.preactivated = True\n",
    "    @staticmethod\n",
    "    def erro(y, ypred):\n",
    "        return y - ypred\n",
    "    @staticmethod\n",
    "    def custo(y, ypred):\n",
    "        return np.sum((1 - Adaline.erro(y, ypred)) ** 2)\n",
    "    @staticmethod\n",
    "    def gradiente(y, ypred, X):\n",
    "        return np.matmul(Adaline.erro(y, ypred), X)"
   ]
  },
  {
   "cell_type": "code",
   "execution_count": null,
   "metadata": {},
   "outputs": [],
   "source": [
    "from sklearn.base import BaseEstimator, ClassifierMixin\n",
    "\n",
    "class Perceptron(BaseEstimator, ClassifierMixin):\n",
    "    \n",
    "    def __init__(self, custo=Adaline(), alpha=0.014):\n",
    "        self.w = None\n",
    "        self.activation = lambda a: (a >= 0)*2-1\n",
    "        self.alpha = alpha\n",
    "        self.maxiter = 20\n",
    "        self.custo = custo\n",
    "        self.whist = []\n",
    "        self.chist = []\n",
    "\n",
    "    @staticmethod\n",
    "    def includebias(X):\n",
    "        bias = np.ones((X.shape[0],1))\n",
    "        Xb = np.concatenate((bias, X), axis=1)\n",
    "        return Xb\n",
    "\n",
    "    def fit(self, X ,y):\n",
    "        Xb = Perceptron.includebias(X)\n",
    "        self.w = np.random.uniform(-1, 1, size=Xb.shape[1])\n",
    "        for _ in range(self.maxiter):\n",
    "            if hasattr(self.custo, 'preactivated') and self.custo.preactivated: \n",
    "                ypred = self.preactivate(X) \n",
    "            else: \n",
    "                ypred = self.predict(X)\n",
    "            custo = self.custo.custo(y, ypred)\n",
    "            self.w = self.w + self.alpha * self.custo.gradiente(y, ypred, Xb)\n",
    "            print(custo)\n",
    "            self.whist.append(self.w)\n",
    "            self.chist.append(custo)\n",
    "            if custo == 0:\n",
    "                break\n",
    "    \n",
    "    def preactivate(self, X):\n",
    "        Xb = Perceptron.includebias(X)\n",
    "        return np.matmul(Xb, self.w)\n",
    "\n",
    "    def predict(self, X):\n",
    "        a = self.preactivate(X)\n",
    "        ypred = self.activation(a)\n",
    "        return ypred"
   ]
  },
  {
   "cell_type": "code",
   "execution_count": null,
   "metadata": {},
   "outputs": [],
   "source": [
    "perceptron = Perceptron(alpha=0.01)\n",
    "perceptron.fit(X, y)\n",
    "ypred = perceptron.predict(X)\n",
    "print(perceptron.w)\n",
    "print(sum(y == ypred)/len(y))\n",
    "\n",
    "plotadataset(X, y)\n",
    "plotahiperplano(perceptron.w[1:], perceptron.w[0])\n",
    "plt.show()"
   ]
  },
  {
   "cell_type": "code",
   "execution_count": null,
   "metadata": {},
   "outputs": [],
   "source": [
    "whist = np.array(perceptron.whist)\n",
    "chist = np.array(perceptron.chist)\n",
    "whist, chist"
   ]
  },
  {
   "cell_type": "code",
   "execution_count": null,
   "metadata": {},
   "outputs": [],
   "source": [
    "for i in range(whist.shape[1]):\n",
    "    plt.plot(whist[:,i], chist, '-')\n",
    "    seq = [j ** 1.5 for j in range(len(chist))]\n",
    "    plt.scatter(whist[:,i], chist, s=seq, c=seq, cmap='Wistia')\n",
    "    idx = np.argsort(whist[:,i])\n",
    "    plt.plot(whist[idx,i], chist[idx])\n",
    "    plt.show()"
   ]
  },
  {
   "cell_type": "code",
   "execution_count": null,
   "metadata": {},
   "outputs": [],
   "source": [
    "for i in range(whist.shape[1]):\n",
    "    for j in range(1, len(chist)):\n",
    "        plt.plot(whist[:j,i], chist[:j], 'o-')\n",
    "        idx = np.argsort(whist[:j,i])\n",
    "        plt.plot(whist[idx,i], chist[idx], alpha=0.3)\n",
    "        plt.xlim([np.min(whist), np.max(whist)])\n",
    "        plt.ylim([np.min(chist), np.max(chist)])\n",
    "        plt.show()"
   ]
  }
 ],
 "metadata": {
  "kernelspec": {
   "display_name": ".venv",
   "language": "python",
   "name": "python3"
  },
  "language_info": {
   "codemirror_mode": {
    "name": "ipython",
    "version": 3
   },
   "file_extension": ".py",
   "mimetype": "text/x-python",
   "name": "python",
   "nbconvert_exporter": "python",
   "pygments_lexer": "ipython3",
   "version": "3.11.9"
  }
 },
 "nbformat": 4,
 "nbformat_minor": 2
}
