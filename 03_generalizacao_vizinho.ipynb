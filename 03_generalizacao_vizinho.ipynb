{
 "cells": [
  {
   "cell_type": "code",
   "execution_count": null,
   "metadata": {},
   "outputs": [],
   "source": [
    "from sklearn.datasets import load_wine\n",
    "wine = load_wine()\n",
    "wine.keys()"
   ]
  },
  {
   "cell_type": "code",
   "execution_count": null,
   "metadata": {},
   "outputs": [],
   "source": [
    "X, y = wine.data, wine.target\n",
    "X.shape, y.shape, set(y)"
   ]
  },
  {
   "cell_type": "code",
   "execution_count": null,
   "metadata": {},
   "outputs": [],
   "source": [
    "import matplotlib.pyplot as plt\n",
    "i, j = 6,9\n",
    "plt.xlabel(f\"{i}: {wine.feature_names[i]}\")\n",
    "plt.ylabel(f\"{j}: {wine.feature_names[j]}\")\n",
    "for k in set(y):\n",
    "    plt.plot(X[:,i][y==k], X[:,j][y==k],\"o\",label=f\"{wine.target_names[k]}\")\n",
    "plt.legend()\n",
    "plt.show()"
   ]
  },
  {
   "cell_type": "code",
   "execution_count": null,
   "metadata": {},
   "outputs": [],
   "source": [
    "X69 = X[:,[6,9]]\n",
    "X69.shape"
   ]
  },
  {
   "cell_type": "code",
   "execution_count": null,
   "metadata": {},
   "outputs": [],
   "source": [
    "import numpy as np\n",
    "\n",
    "class vizinho():\n",
    "    def fit(self, X, y):\n",
    "        self.X = X\n",
    "        self.y = y\n",
    "    def distancia(self, X):\n",
    "        diferenca = self.X - X\n",
    "        quadrado = diferenca ** 2\n",
    "        soma = np.sum(quadrado, axis=1)\n",
    "        raiz = np.sqrt(soma)\n",
    "        return raiz\n",
    "    def predict(self, X):\n",
    "        ypred = np.empty((X.shape[0],))\n",
    "        for i in range(X.shape[0]):\n",
    "            distancias = self.distancia(X[i])\n",
    "            vizinho = np.argmin(distancias)\n",
    "            ypred[i] = self.y[vizinho]\n",
    "        return ypred"
   ]
  },
  {
   "cell_type": "code",
   "execution_count": null,
   "metadata": {},
   "outputs": [],
   "source": [
    "from sklearn.metrics import accuracy_score\n",
    "\n",
    "modelo = vizinho()\n",
    "modelo.fit(X69, y)\n",
    "ypred = modelo.predict(X69)\n",
    "acuracia = accuracy_score(y, ypred)\n",
    "acuracia"
   ]
  },
  {
   "cell_type": "code",
   "execution_count": null,
   "metadata": {},
   "outputs": [],
   "source": [
    "ntreino = int(len(y)*0.8)\n",
    "X_treino, X_teste = X[:ntreino],X[ntreino:] \n",
    "y_treino, y_teste = y[:ntreino],y[ntreino:] \n",
    "X_treino.shape, X_teste.shape"
   ]
  },
  {
   "cell_type": "code",
   "execution_count": null,
   "metadata": {},
   "outputs": [],
   "source": [
    "from sklearn.metrics import accuracy_score\n",
    "\n",
    "modelo = vizinho()\n",
    "modelo.fit(X_treino, y_treino)\n",
    "ypred = modelo.predict(X_teste)\n",
    "acuracia = accuracy_score(y_teste, ypred)\n",
    "acuracia"
   ]
  },
  {
   "cell_type": "code",
   "execution_count": null,
   "metadata": {},
   "outputs": [],
   "source": [
    "y"
   ]
  },
  {
   "cell_type": "code",
   "execution_count": null,
   "metadata": {},
   "outputs": [],
   "source": [
    "y_treino"
   ]
  },
  {
   "cell_type": "code",
   "execution_count": null,
   "metadata": {},
   "outputs": [],
   "source": [
    "y_teste"
   ]
  },
  {
   "cell_type": "code",
   "execution_count": null,
   "metadata": {},
   "outputs": [],
   "source": [
    "from sklearn.model_selection import train_test_split\n",
    "from sklearn.metrics import accuracy_score\n",
    "\n",
    "X_treino, X_teste, y_treino, y_teste = train_test_split(X, y, test_size=0.33, random_state=42)\n",
    "\n",
    "modelo = vizinho()\n",
    "modelo.fit(X_treino, y_treino)\n",
    "ypred = modelo.predict(X_teste)\n",
    "acuracia = accuracy_score(y_teste, ypred)\n",
    "acuracia"
   ]
  },
  {
   "cell_type": "code",
   "execution_count": null,
   "metadata": {},
   "outputs": [],
   "source": [
    "import matplotlib.pyplot as plt\n",
    "import numpy as np\n",
    "\n",
    "plt.bar(list(range(X.shape[1])), np.mean(X, axis=0))\n",
    "plt.show()"
   ]
  },
  {
   "cell_type": "code",
   "execution_count": null,
   "metadata": {},
   "outputs": [],
   "source": [
    "from sklearn.preprocessing import StandardScaler\n",
    "scaler = StandardScaler()\n",
    "X_new = scaler.fit_transform(X)\n",
    "\n",
    "plt.bar(list(range(X_new.shape[1])), np.mean(X_new, axis=0))\n",
    "plt.show()"
   ]
  },
  {
   "cell_type": "code",
   "execution_count": null,
   "metadata": {},
   "outputs": [],
   "source": [
    "from sklearn.model_selection import cross_validate\n",
    "from sklearn.linear_model import LogisticRegression\n",
    "\n",
    "modelo = LogisticRegression()\n",
    "scores = cross_validate(modelo, X, y)\n",
    "sempad = np.mean(scores['test_score'])\n",
    "print(f\"Sem padronização {sempad}\")"
   ]
  },
  {
   "cell_type": "code",
   "execution_count": null,
   "metadata": {},
   "outputs": [],
   "source": [
    "scores = cross_validate(modelo, X_new, y)\n",
    "compad = np.mean(scores['test_score'])\n",
    "print(f\"Com padronização {compad}\")"
   ]
  },
  {
   "cell_type": "code",
   "execution_count": null,
   "metadata": {},
   "outputs": [],
   "source": [
    "from sklearn.pipeline import Pipeline\n",
    "\n",
    "modelo = Pipeline([\n",
    "    (\"padronizacao\", scaler),\n",
    "    (\"classificador\", LogisticRegression()),\n",
    "])\n",
    "scores = cross_validate(modelo, X, y)\n",
    "aninha = np.mean(scores['test_score'])\n",
    "print(f\"Aninhado {aninha}\")"
   ]
  },
  {
   "cell_type": "code",
   "execution_count": null,
   "metadata": {},
   "outputs": [],
   "source": [
    "colunas = [\"sem scaler\", \"com scaler\", \"aninhado\"]\n",
    "plt.bar(colunas, [sempad, compad, aninha])\n",
    "plt.show()"
   ]
  },
  {
   "cell_type": "code",
   "execution_count": null,
   "metadata": {},
   "outputs": [],
   "source": [
    "colunas = [\"sem scaler\", \"com scaler\", \"aninhado\"]\n",
    "plt.bar(colunas, np.array([sempad, compad, aninha])-0.95, bottom=0.95)\n",
    "plt.show()"
   ]
  }
 ],
 "metadata": {
  "kernelspec": {
   "display_name": ".venv",
   "language": "python",
   "name": "python3"
  },
  "language_info": {
   "codemirror_mode": {
    "name": "ipython",
    "version": 3
   },
   "file_extension": ".py",
   "mimetype": "text/x-python",
   "name": "python",
   "nbconvert_exporter": "python",
   "pygments_lexer": "ipython3",
   "version": "3.11.9"
  }
 },
 "nbformat": 4,
 "nbformat_minor": 2
}
