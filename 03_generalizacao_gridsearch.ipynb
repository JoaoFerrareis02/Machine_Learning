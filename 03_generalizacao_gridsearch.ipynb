{
 "cells": [
  {
   "cell_type": "code",
   "execution_count": null,
   "metadata": {},
   "outputs": [],
   "source": [
    "from sklearn.datasets import load_diabetes\n",
    "diabetes = load_diabetes()\n",
    "diabetes.keys()"
   ]
  },
  {
   "cell_type": "code",
   "execution_count": null,
   "metadata": {},
   "outputs": [],
   "source": [
    "X, y = diabetes.data, diabetes.target\n",
    "X.shape, y.shape"
   ]
  },
  {
   "cell_type": "code",
   "execution_count": null,
   "metadata": {},
   "outputs": [],
   "source": [
    "from sklearn.neighbors import KNeighborsRegressor\n",
    "from sklearn.model_selection import cross_validate\n",
    "from sklearn.metrics import make_scorer, root_mean_squared_error\n",
    "import numpy as np\n",
    "\n",
    "modelo = KNeighborsRegressor()\n",
    "scores = cross_validate(modelo, X, y, scoring=make_scorer(root_mean_squared_error, greater_is_better=False))\n",
    "print(scores['test_score'])\n",
    "sempad = np.mean(scores['test_score'])\n",
    "print(f\"Sem padronização: {sempad}\")"
   ]
  },
  {
   "cell_type": "code",
   "execution_count": null,
   "metadata": {},
   "outputs": [],
   "source": [
    "from sklearn.model_selection import GridSearchCV\n",
    "\n",
    "parametros = {'n_neighbors': [3,5,7]}\n",
    "\n",
    "modelo = GridSearchCV(KNeighborsRegressor(), parametros, scoring=make_scorer(root_mean_squared_error, greater_is_better=False))\n",
    "\n",
    "modelo.fit(X, y)\n",
    "\n",
    "modelo.cv_results_"
   ]
  },
  {
   "cell_type": "code",
   "execution_count": null,
   "metadata": {},
   "outputs": [],
   "source": [
    "modelo.best_estimator_"
   ]
  },
  {
   "cell_type": "code",
   "execution_count": null,
   "metadata": {},
   "outputs": [],
   "source": [
    "from sklearn.metrics import root_mean_squared_error\n",
    "ypred = modelo.predict(X)\n",
    "rmse = root_mean_squared_error(y, ypred)\n",
    "rmse"
   ]
  },
  {
   "cell_type": "code",
   "execution_count": null,
   "metadata": {},
   "outputs": [],
   "source": [
    "scores = cross_validate(modelo, X, y, scoring=make_scorer(root_mean_squared_error, greater_is_better=False))\n",
    "print(scores['test_score'])\n",
    "sempad = np.mean(scores['test_score'])\n",
    "print(f\"Sem padronização: {sempad}\")"
   ]
  },
  {
   "cell_type": "code",
   "execution_count": null,
   "metadata": {},
   "outputs": [],
   "source": [
    "from sklearn.preprocessing import StandardScaler\n",
    "from sklearn.pipeline import Pipeline\n",
    "\n",
    "parametros = {'n_neighbors': [3,5,7]}\n",
    "\n",
    "GridSearchKNN = GridSearchCV(KNeighborsRegressor(), parametros, scoring='neg_mean_squared_error')\n",
    "\n",
    "modelo = Pipeline([\n",
    "    (\"padronizacao\", StandardScaler()),\n",
    "    (\"gsknn\", GridSearchKNN)\n",
    "])\n",
    "\n",
    "scores = cross_validate(modelo, X, y, scoring=make_scorer(root_mean_squared_error, greater_is_better=False))\n",
    "print(scores['test_score'])\n",
    "compad = np.mean(scores['test_score'])\n",
    "print(f\"Com padronização: {compad}\")"
   ]
  },
  {
   "cell_type": "code",
   "execution_count": null,
   "metadata": {},
   "outputs": [],
   "source": [
    "from sklearn.preprocessing import StandardScaler\n",
    "from sklearn.pipeline import Pipeline\n",
    "\n",
    "pipeline = Pipeline([\n",
    "    (\"padronizacao\", StandardScaler()),\n",
    "    (\"gsknn\", KNeighborsRegressor())\n",
    "])\n",
    "\n",
    "parametros = {'knn__n_neighbors': [3,5,7]}\n",
    "GridSearchKNN = GridSearchCV(pipeline , parametros, scoring='neg_mean_squared_error')\n",
    "\n",
    "scores = cross_validate(modelo, X, y, scoring=make_scorer(root_mean_squared_error, greater_is_better=False))\n",
    "print(scores['test_score'])\n",
    "compad = np.mean(scores['test_score'])\n",
    "print(f\"Com padronização: {compad}\")"
   ]
  }
 ],
 "metadata": {
  "kernelspec": {
   "display_name": ".venv",
   "language": "python",
   "name": "python3"
  },
  "language_info": {
   "codemirror_mode": {
    "name": "ipython",
    "version": 3
   },
   "file_extension": ".py",
   "mimetype": "text/x-python",
   "name": "python",
   "nbconvert_exporter": "python",
   "pygments_lexer": "ipython3",
   "version": "3.11.9"
  }
 },
 "nbformat": 4,
 "nbformat_minor": 2
}
