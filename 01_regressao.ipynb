{
 "cells": [
  {
   "cell_type": "code",
   "execution_count": null,
   "metadata": {},
   "outputs": [],
   "source": [
    "# from sklearn.datasets import load_boston\n",
    "# boston = load_boston()\n",
    "# boston.keys()\n",
    "\n",
    "from sklearn.datasets import fetch_openml\n",
    "boston = fetch_openml(name=\"boston\", as_frame=True)\n",
    "boston.keys()"
   ]
  },
  {
   "cell_type": "code",
   "execution_count": null,
   "metadata": {},
   "outputs": [],
   "source": [
    "# print(boston.DESCR)\n",
    "# print(boston.url)\n",
    "print(boston.feature_names)"
   ]
  },
  {
   "cell_type": "code",
   "execution_count": null,
   "metadata": {},
   "outputs": [],
   "source": [
    "X,y = boston.data.values, boston.target.values\n",
    "X.shape, y.shape"
   ]
  },
  {
   "cell_type": "code",
   "execution_count": null,
   "metadata": {},
   "outputs": [],
   "source": [
    "import matplotlib.pylab as plt\n",
    "for i in range(X.shape[1]):\n",
    "    print(i)\n",
    "    plt.scatter(X[:,i],y)\n",
    "    plt.show()"
   ]
  },
  {
   "cell_type": "code",
   "execution_count": null,
   "metadata": {},
   "outputs": [],
   "source": [
    "X12 = X[:,12:13]\n",
    "plt.scatter(X12, y)\n",
    "plt.show()"
   ]
  },
  {
   "cell_type": "code",
   "execution_count": null,
   "metadata": {},
   "outputs": [],
   "source": [
    "def modelo_linear(X, a, b):\n",
    "    y = a * X + b\n",
    "    return y\n",
    "\n",
    "ypred = modelo_linear(X12, -1, 40)\n",
    "plt.scatter(X12, y)\n",
    "plt.plot(X12, ypred, 'r')\n",
    "plt.show()\n"
   ]
  },
  {
   "cell_type": "code",
   "execution_count": null,
   "metadata": {},
   "outputs": [],
   "source": [
    "# Mean Absolute Error\n",
    "def mae(y, ypred):\n",
    "    yDiff = ypred - y.reshape(-1, 1)\n",
    "    yAbs = abs(yDiff)\n",
    "    errorSum = sum(yAbs)\n",
    "    mae = errorSum / len(yAbs)\n",
    "    return mae[0]\n",
    "\n",
    "ypred = modelo_linear(X12, -1, 40)\n",
    "mae(y, ypred)"
   ]
  },
  {
   "cell_type": "code",
   "execution_count": null,
   "metadata": {},
   "outputs": [],
   "source": [
    "# Mean Squared Error\n",
    "def mse(y, ypred):\n",
    "    yDiff = ypred - y.reshape(-1, 1)\n",
    "    yDiffSquare = yDiff ** 2\n",
    "    errorSum = sum(yDiffSquare)\n",
    "    mse = errorSum / len(yDiffSquare)\n",
    "    return mse[0]\n",
    "\n",
    "ypred = modelo_linear(X12, -1, 40)\n",
    "mse(y, ypred)"
   ]
  },
  {
   "cell_type": "code",
   "execution_count": null,
   "metadata": {},
   "outputs": [],
   "source": [
    "# Root Mean Squared Error\n",
    "from math import sqrt\n",
    "\n",
    "def rmse(y, ypred):\n",
    "    yDiff = ypred - y.reshape(-1, 1)\n",
    "    yDiffSquare = yDiff ** 2\n",
    "    errorSum = sum(yDiffSquare)\n",
    "    mse = errorSum / len(yDiffSquare)\n",
    "    return sqrt(mse[0])\n",
    "\n",
    "ypred = modelo_linear(X12, -1, 40)\n",
    "rmse(y, ypred)"
   ]
  },
  {
   "cell_type": "code",
   "execution_count": null,
   "metadata": {},
   "outputs": [],
   "source": [
    "from sklearn.metrics import mean_squared_error\n",
    "from math import sqrt\n",
    "\n",
    "def rmse(y, ypred):\n",
    "    mse = mean_squared_error(y, ypred)\n",
    "    return sqrt(mse)\n",
    "\n",
    "ypred = modelo_linear(X12, -1, 40)\n",
    "rmse(y, ypred)"
   ]
  },
  {
   "cell_type": "code",
   "execution_count": null,
   "metadata": {},
   "outputs": [],
   "source": [
    "from sklearn.metrics import mean_squared_error\n",
    "import numpy as np\n",
    "\n",
    "class regressao_linear():\n",
    "    def __init__(self):\n",
    "        self.w = np.zeros((2,1))\n",
    "    @staticmethod\n",
    "    def addBias(X):\n",
    "        bias = np.ones((X.shape[0], 1))\n",
    "        X_b = np.concatenate((bias, X), axis=1)\n",
    "        return X_b\n",
    "    def fit(self, X, y):\n",
    "        X_b = self.addBias(X)\n",
    "        for _ in range(500):\n",
    "            ypred = self.predict(X)\n",
    "            erro = ypred - y.reshape(-1,1)\n",
    "            ajuste = X_b.T.dot(erro)/sum(X_b).reshape(-1,1)\n",
    "            self.w = self.w - 0.1 * ajuste\n",
    "    def predict(self, X):\n",
    "        X_b = self.addBias(X)\n",
    "        y = X_b.dot(self.w)\n",
    "        return y\n",
    "    \n",
    "plt.scatter(X12, y)\n",
    "modelo = regressao_linear()\n",
    "ypred = modelo.predict(X12)\n",
    "print(rmse(y, ypred))\n",
    "plt.plot(X12, ypred, 'r')\n",
    "\n",
    "modelo.fit(X12, y)\n",
    "\n",
    "ypred = modelo.predict(X12)\n",
    "print(rmse(y, ypred))\n",
    "plt.plot(X12, ypred, 'g')\n",
    "plt.show()\n",
    "modelo.w"
   ]
  },
  {
   "cell_type": "code",
   "execution_count": null,
   "metadata": {},
   "outputs": [],
   "source": [
    "from sklearn.metrics import mean_squared_error\n",
    "import numpy as np\n",
    "w0 = np.linspace(33, 36, 30)\n",
    "w1 = np.linspace(-1, -0.8, 30)\n",
    "\n",
    "def z_function(W0, W1):\n",
    "    modelo = regressao_linear()\n",
    "    Erro = np.empty(W0.shape)\n",
    "    for j in range(Erro.shape[0]):\n",
    "        for k in range(Erro.shape[1]):\n",
    "            modelo.w[0] = W0[j][k]\n",
    "            modelo.w[1] = W1[j][k]\n",
    "            ypred = modelo.predict(X12)\n",
    "            mse = mean_squared_error(y, ypred)\n",
    "            Erro[j][k]  = mse\n",
    "    return Erro\n",
    "\n",
    "ax = plt.axes(projection=\"3d\")\n",
    "W0, W1 = np.meshgrid(w0, w1)\n",
    "Erro = z_function(W0, W1)\n",
    "\n",
    "ax.plot_wireframe(W0, W1, Erro)\n",
    "ax.plot_surface(W0, W1, Erro, rstride=1, cstride = 1, alpha=0.75, cmap='coolwarm', edgecolor='none')"
   ]
  },
  {
   "cell_type": "code",
   "execution_count": null,
   "metadata": {},
   "outputs": [],
   "source": [
    "plt.ylabel(\"Erro\")\n",
    "plt.xlabel(\"WO\")\n",
    "i = 8\n",
    "plt.plot(W0[i,:], Erro[i,:])\n",
    "plt.show()"
   ]
  },
  {
   "cell_type": "code",
   "execution_count": null,
   "metadata": {},
   "outputs": [],
   "source": [
    "plt.ylabel(\"Erro\")\n",
    "plt.xlabel(\"W1\")\n",
    "i = 8\n",
    "plt.plot(W1[:,i], Erro[:,i])\n",
    "plt.show()"
   ]
  },
  {
   "cell_type": "code",
   "execution_count": null,
   "metadata": {},
   "outputs": [],
   "source": [
    "from sklearn.metrics import mean_squared_error\n",
    "import numpy as np\n",
    "\n",
    "class regressao_linear():\n",
    "    def __init__(self):\n",
    "        self.w = np.zeros((2,1))\n",
    "        self.wh = []\n",
    "    @staticmethod\n",
    "    def addBias(X):\n",
    "        bias = np.ones((X.shape[0], 1))\n",
    "        X_b = np.concatenate((bias, X), axis=1)\n",
    "        return X_b\n",
    "    def fit(self, X, y):\n",
    "        X_b = self.addBias(X)\n",
    "        for _ in range(500):\n",
    "            ypred = self.predict(X)\n",
    "            erro = ypred - y.reshape(-1,1)\n",
    "            ajuste = X_b.T.dot(erro)/sum(X_b).reshape(-1,1)\n",
    "            self.w = self.w - 0.1 * ajuste\n",
    "            ypred = self.predict(X)\n",
    "            mse = mean_squared_error(y, ypred)\n",
    "            self.wh.append([self.w[0,0], self.w[1,0], mse])\n",
    "\n",
    "    def predict(self, X):\n",
    "        X_b = self.addBias(X)\n",
    "        y = X_b.dot(self.w)\n",
    "        return y\n",
    "    \n",
    "w0 = np.linspace(0, 16, 20)\n",
    "w1 = np.linspace(0, 2, 20)\n",
    "\n",
    "def z_function(W0, W1):\n",
    "    modelo = regressao_linear()\n",
    "    Erro = np.empty(W0.shape)\n",
    "    for j in range(Erro.shape[0]):\n",
    "        for k in range(Erro.shape[1]):\n",
    "            modelo.w[0] = W0[j][k]\n",
    "            modelo.w[1] = W1[j][k]\n",
    "            ypred = modelo.predict(X12)\n",
    "            mse = mean_squared_error(y, ypred)\n",
    "            Erro[j][k]  = mse\n",
    "    return Erro\n",
    "\n",
    "ax = plt.axes(projection=\"3d\")\n",
    "W0, W1 = np.meshgrid(w0, w1)\n",
    "Erro = z_function(W0, W1)\n",
    "\n",
    "ax.plot_wireframe(W0, W1, Erro, alpha=0.5)\n",
    "ax.plot_surface(W0, W1, Erro, rstride=1, cstride = 1, alpha=0.5, cmap='coolwarm', edgecolor='none')\n",
    "\n",
    "modelo = regressao_linear()\n",
    "modelo.fit(X12, y)\n",
    "ypred = modelo.predict(X12)\n",
    "wh = np.array(modelo.wh)\n",
    "\n",
    "ax.plot(wh[:,0], wh[:,1], wh[:,2], marker='o', linewidth='0.5', markersize=2)\n",
    "ax.view_init(azim=0, elev=90)\n",
    "\n",
    "plt.show()"
   ]
  },
  {
   "cell_type": "code",
   "execution_count": null,
   "metadata": {},
   "outputs": [],
   "source": [
    "modelo = regressao_linear()\n",
    "modelo.fit(X12, y)\n",
    "ypred = modelo.predict(X12)\n",
    "print(mean_squared_error(y, ypred))\n",
    "print(modelo.w)"
   ]
  },
  {
   "cell_type": "code",
   "execution_count": null,
   "metadata": {},
   "outputs": [],
   "source": [
    "from sklearn.linear_model import LinearRegression\n",
    "modelo = LinearRegression()\n",
    "modelo.fit(X12, y)\n",
    "ypred = modelo.predict(X12)\n",
    "print(mean_squared_error(y, ypred))\n",
    "print(modelo.intercept_, modelo.coef_)"
   ]
  },
  {
   "cell_type": "code",
   "execution_count": null,
   "metadata": {},
   "outputs": [],
   "source": [
    "from sklearn.linear_model import LinearRegression\n",
    "modelo = LinearRegression()\n",
    "modelo.fit(X, y)\n",
    "ypred = modelo.predict(X)\n",
    "print(mean_squared_error(y, ypred))\n",
    "print(modelo.intercept_, modelo.coef_)"
   ]
  }
 ],
 "metadata": {
  "kernelspec": {
   "display_name": ".venv",
   "language": "python",
   "name": "python3"
  },
  "language_info": {
   "codemirror_mode": {
    "name": "ipython",
    "version": 3
   },
   "file_extension": ".py",
   "mimetype": "text/x-python",
   "name": "python",
   "nbconvert_exporter": "python",
   "pygments_lexer": "ipython3",
   "version": "3.11.9"
  }
 },
 "nbformat": 4,
 "nbformat_minor": 2
}
